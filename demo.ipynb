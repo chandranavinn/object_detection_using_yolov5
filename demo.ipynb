{
 "cells": [
  {
   "cell_type": "code",
   "execution_count": 4,
   "metadata": {},
   "outputs": [
    {
     "name": "stderr",
     "output_type": "stream",
     "text": [
      "\u001b[34m\u001b[1mdetect: \u001b[0mweights=[\"C:\\\\Users\\\\Hey'y\\\\Desktop\\\\testobjd\\\\yolov5\\\\runs\\\\train\\\\exp2\\\\weights\\\\best.pt\"], source=C:\\Users\\Hey'y\\Desktop\\testobjd\\dataset\\images\\test, data=yolov5\\data\\coco128.yaml, imgsz=[640, 640], conf_thres=0.25, iou_thres=0.45, max_det=1000, device=, view_img=False, save_txt=False, save_csv=False, save_conf=False, save_crop=False, nosave=False, classes=None, agnostic_nms=False, augment=False, visualize=False, update=False, project=yolov5\\runs\\detect, name=exp, exist_ok=False, line_thickness=3, hide_labels=False, hide_conf=False, half=False, dnn=False, vid_stride=1\n",
      "YOLOv5  v7.0-296-gae4ef3b2 Python-3.10.7 torch-2.2.2+cpu CPU\n",
      "\n",
      "Traceback (most recent call last):\n",
      "  File \"C:\\Users\\Hey'y\\Desktop\\testobjd\\yolov5\\detect.py\", line 312, in <module>\n",
      "    main(opt)\n",
      "  File \"C:\\Users\\Hey'y\\Desktop\\testobjd\\yolov5\\detect.py\", line 307, in main\n",
      "    run(**vars(opt))\n",
      "  File \"c:\\Users\\Hey'y\\AppData\\Local\\Programs\\Python\\Python310\\lib\\site-packages\\torch\\utils\\_contextlib.py\", line 115, in decorate_context\n",
      "    return func(*args, **kwargs)\n",
      "  File \"C:\\Users\\Hey'y\\Desktop\\testobjd\\yolov5\\detect.py\", line 115, in run\n",
      "    model = DetectMultiBackend(weights, device=device, dnn=dnn, data=data, fp16=half)\n",
      "  File \"C:\\Users\\Hey'y\\Desktop\\testobjd\\yolov5\\models\\common.py\", line 467, in __init__\n",
      "    model = attempt_load(weights if isinstance(weights, list) else w, device=device, inplace=True, fuse=fuse)\n",
      "  File \"C:\\Users\\Hey'y\\Desktop\\testobjd\\yolov5\\models\\experimental.py\", line 98, in attempt_load\n",
      "    ckpt = torch.load(attempt_download(w), map_location=\"cpu\")  # load\n",
      "  File \"c:\\Users\\Hey'y\\AppData\\Local\\Programs\\Python\\Python310\\lib\\site-packages\\torch\\serialization.py\", line 998, in load\n",
      "    with _open_file_like(f, 'rb') as opened_file:\n",
      "  File \"c:\\Users\\Hey'y\\AppData\\Local\\Programs\\Python\\Python310\\lib\\site-packages\\torch\\serialization.py\", line 445, in _open_file_like\n",
      "    return _open_file(name_or_buffer, mode)\n",
      "  File \"c:\\Users\\Hey'y\\AppData\\Local\\Programs\\Python\\Python310\\lib\\site-packages\\torch\\serialization.py\", line 426, in __init__\n",
      "    super().__init__(open(name, mode))\n",
      "FileNotFoundError: [Errno 2] No such file or directory: 'C:\\\\Users\\\\Heyy\\\\Desktop\\\\testobjd\\\\yolov5\\\\runs\\\\train\\\\exp2\\\\weights\\\\best.pt'\n"
     ]
    }
   ],
   "source": [
    "!python \"C:\\Users\\Hey'y\\Desktop\\testobjd\\yolov5\\detect.py\" --source \"C:\\Users\\Hey'y\\Desktop\\testobjd\\dataset\\images\\test\" --weights \"C:\\Users\\Hey'y\\Desktop\\testobjd\\yolov5\\runs\\train\\exp2\\weights\\best.pt\""
   ]
  },
  {
   "cell_type": "code",
   "execution_count": null,
   "metadata": {},
   "outputs": [],
   "source": []
  }
 ],
 "metadata": {
  "kernelspec": {
   "display_name": "Python 3",
   "language": "python",
   "name": "python3"
  },
  "language_info": {
   "codemirror_mode": {
    "name": "ipython",
    "version": 3
   },
   "file_extension": ".py",
   "mimetype": "text/x-python",
   "name": "python",
   "nbconvert_exporter": "python",
   "pygments_lexer": "ipython3",
   "version": "3.10.7"
  }
 },
 "nbformat": 4,
 "nbformat_minor": 2
}
