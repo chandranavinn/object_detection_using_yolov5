{
 "cells": [
  {
   "cell_type": "code",
   "execution_count": 6,
   "metadata": {},
   "outputs": [],
   "source": [
    "import cv2"
   ]
  },
  {
   "cell_type": "code",
   "execution_count": 7,
   "metadata": {},
   "outputs": [],
   "source": [
    "\n",
    "class_names = {\n",
    "    0: \"person\", 1: \"bicycle\", 2: \"car\", 3: \"motorcycle\", 4: \"airplane\", 5: \"bus\", 6: \"train\", 7: \"truck\", 8: \"boat\", 9: \"traffic light\",\n",
    "    10: \"fire hydrant\", 11: \"stop sign\",12: \"parking meter\", 13: \"bench\", 14: \"bird\", 15: \"cat\", 16: \"dog\",17: \"horse\",18: \"sheep\",19: \"cow\",\n",
    "    20: \"elephant\",21: \"bear\",22: \"zebra\",23: \"giraffe\",24: \"backpack\",25: \"umbrella\",26: \"handbag\",27: \"tie\",28: \"suitcase\",29: \"frisbee\",\n",
    "    30: \"skis\",31: \"snowboard\",32: \"sports ball\",33: \"kite\",34: \"baseball bat\",35: \"baseball glove\",36: \"skateboard\",37: \"surfboard\",\n",
    "    38: \"tennis racket\",39: \"bottle\",40: \"wine glass\",41: \"cup\",42: \"fork\",43: \"knife\",44: \"spoon\",45: \"bowl\",46: \"banana\",\n",
    "    47: \"apple\",48: \"sandwich\",49: \"orange\",\n",
    "    50: \"broccoli\", 51: \"carrot\", 52: \"hot dog\",53: \"pizza\",54: \"donut\",55: \"cake\",56: \"chair\",57: \"couch\",58: \"potted plant\",\n",
    "    59: \"bed\", 60: \"dining table\", 61: \"toilet\", 62: \"tv\", 63: \"laptop\", 64: \"mouse\", 65: \"remote\", 66: \"keyboard\", 67: \"cell phone\", 68: \"microwave\",\n",
    "    69: \"oven\",70: \"toaster\", 71: \"sink\", 72: \"refrigerator\", 73: \"book\",\n",
    "    74: \"clock\", 75: \"vase\", 76: \"scissors\", 77: \"teddy bear\", 78: \"hair drier\", 79: \"toothbrush\"\n",
    "}\n"
   ]
  },
  {
   "cell_type": "code",
   "execution_count": 9,
   "metadata": {},
   "outputs": [],
   "source": [
    "\n",
    "def plot_annotations(image_path, annotation_path):\n",
    "    \n",
    "    image = cv2.imread(image_path)\n",
    "    \n",
    "    # image dimensions\n",
    "    img_height, img_width = image.shape[:2]\n",
    "    \n",
    "    # Read annotations from the TXT file\n",
    "    with open(annotation_path, 'r') as f:\n",
    "        annotations = f.readlines()\n",
    "    \n",
    "    # Loop through annotation\n",
    "    for annotation in annotations:\n",
    "        \n",
    "        class_id, x_center, y_center, width, height = map(float, annotation.split())\n",
    "        \n",
    "        # Convert relative coordinates to absolute coordinates\n",
    "        x1 = int((x_center - width / 2) * img_width)\n",
    "        y1 = int((y_center - height / 2) * img_height)\n",
    "        x2 = int((x_center + width / 2) * img_width)\n",
    "        y2 = int((y_center + height / 2) * img_height)\n",
    "        \n",
    "        # Getting the class name\n",
    "        class_name = class_names.get(int(class_id), 'Unknown')\n",
    "        \n",
    "        # Draw bounding box on the image\n",
    "        color = (0, 255, 0) \n",
    "        thickness = 2\n",
    "        cv2.rectangle(image, (x1, y1), (x2, y2), color, thickness)\n",
    "        \n",
    "        # Display class label\n",
    "        font = cv2.FONT_HERSHEY_SIMPLEX\n",
    "        cv2.putText(image, class_name, (x1, y1 - 5), font, 0.5, color, 1, cv2.LINE_AA)\n",
    "    \n",
    "    # Show the image with bounding boxes\n",
    "    cv2.imshow('Annotations', image)\n",
    "    cv2.waitKey(0)\n",
    "    cv2.destroyAllWindows()\n",
    "\n",
    "image_path = \"C:\\\\Users\\\\HeyY\\\\Desktop\\\\testobjd\\\\dataset\\\\images\\\\val\\\\b1d7b3ac-995f9d8a.jpg\"\n",
    "annotation_path = \"C:\\\\Users\\\\HeyY\\\\Desktop\\\\testobjd\\\\dataset\\\\labels\\\\val\\\\b1d7b3ac-995f9d8a.txt\"\n",
    "plot_annotations(image_path, annotation_path)\n"
   ]
  },
  {
   "cell_type": "code",
   "execution_count": null,
   "metadata": {},
   "outputs": [],
   "source": []
  }
 ],
 "metadata": {
  "kernelspec": {
   "display_name": "Python 3",
   "language": "python",
   "name": "python3"
  },
  "language_info": {
   "codemirror_mode": {
    "name": "ipython",
    "version": 3
   },
   "file_extension": ".py",
   "mimetype": "text/x-python",
   "name": "python",
   "nbconvert_exporter": "python",
   "pygments_lexer": "ipython3",
   "version": "3.12.2"
  }
 },
 "nbformat": 4,
 "nbformat_minor": 2
}
